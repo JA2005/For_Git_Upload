{
 "cells": [
  {
   "cell_type": "markdown",
   "id": "8bfb935a",
   "metadata": {},
   "source": [
    "# Here in this section we will see how to use mathematical operations in vectors "
   ]
  },
  {
   "cell_type": "code",
   "execution_count": 1,
   "id": "2b25539c",
   "metadata": {},
   "outputs": [
    {
     "data": {
      "text/html": [
       "<ol class=list-inline>\n",
       "\t<li>3</li>\n",
       "\t<li>5</li>\n",
       "\t<li>11</li>\n",
       "\t<li>6</li>\n",
       "</ol>\n"
      ],
      "text/latex": [
       "\\begin{enumerate*}\n",
       "\\item 3\n",
       "\\item 5\n",
       "\\item 11\n",
       "\\item 6\n",
       "\\end{enumerate*}\n"
      ],
      "text/markdown": [
       "1. 3\n",
       "2. 5\n",
       "3. 11\n",
       "4. 6\n",
       "\n",
       "\n"
      ],
      "text/plain": [
       "[1]  3  5 11  6"
      ]
     },
     "metadata": {},
     "output_type": "display_data"
    }
   ],
   "source": [
    "vec1 <- c(2, 4, 10, 5)\n",
    "vec1 + 1"
   ]
  },
  {
   "cell_type": "code",
   "execution_count": 3,
   "id": "1dd34dfb",
   "metadata": {},
   "outputs": [
    {
     "data": {
      "text/html": [
       "<ol class=list-inline>\n",
       "\t<li>26</li>\n",
       "\t<li>16</li>\n",
       "\t<li>14</li>\n",
       "\t<li>11</li>\n",
       "</ol>\n"
      ],
      "text/latex": [
       "\\begin{enumerate*}\n",
       "\\item 26\n",
       "\\item 16\n",
       "\\item 14\n",
       "\\item 11\n",
       "\\end{enumerate*}\n"
      ],
      "text/markdown": [
       "1. 26\n",
       "2. 16\n",
       "3. 14\n",
       "4. 11\n",
       "\n",
       "\n"
      ],
      "text/plain": [
       "[1] 26 16 14 11"
      ]
     },
     "metadata": {},
     "output_type": "display_data"
    }
   ],
   "source": [
    "vec2 <- c(24, 12, 4, 6) \n",
    "vec1 + vec2 # addition "
   ]
  },
  {
   "cell_type": "code",
   "execution_count": 4,
   "id": "e7f11cd8",
   "metadata": {},
   "outputs": [
    {
     "data": {
      "text/html": [
       "<ol class=list-inline>\n",
       "\t<li>48</li>\n",
       "\t<li>48</li>\n",
       "\t<li>40</li>\n",
       "\t<li>30</li>\n",
       "</ol>\n"
      ],
      "text/latex": [
       "\\begin{enumerate*}\n",
       "\\item 48\n",
       "\\item 48\n",
       "\\item 40\n",
       "\\item 30\n",
       "\\end{enumerate*}\n"
      ],
      "text/markdown": [
       "1. 48\n",
       "2. 48\n",
       "3. 40\n",
       "4. 30\n",
       "\n",
       "\n"
      ],
      "text/plain": [
       "[1] 48 48 40 30"
      ]
     },
     "metadata": {},
     "output_type": "display_data"
    }
   ],
   "source": [
    "vec1 * vec2 # multiplication "
   ]
  },
  {
   "cell_type": "markdown",
   "id": "8fbeb92b",
   "metadata": {},
   "source": [
    "# We can compare both the vectors "
   ]
  },
  {
   "cell_type": "code",
   "execution_count": 5,
   "id": "6a9f5499",
   "metadata": {},
   "outputs": [
    {
     "data": {
      "text/html": [
       "<ol class=list-inline>\n",
       "\t<li>FALSE</li>\n",
       "\t<li>FALSE</li>\n",
       "\t<li>FALSE</li>\n",
       "\t<li>FALSE</li>\n",
       "</ol>\n"
      ],
      "text/latex": [
       "\\begin{enumerate*}\n",
       "\\item FALSE\n",
       "\\item FALSE\n",
       "\\item FALSE\n",
       "\\item FALSE\n",
       "\\end{enumerate*}\n"
      ],
      "text/markdown": [
       "1. FALSE\n",
       "2. FALSE\n",
       "3. FALSE\n",
       "4. FALSE\n",
       "\n",
       "\n"
      ],
      "text/plain": [
       "[1] FALSE FALSE FALSE FALSE"
      ]
     },
     "metadata": {},
     "output_type": "display_data"
    }
   ],
   "source": [
    "vec1 == vec2"
   ]
  },
  {
   "cell_type": "code",
   "execution_count": 6,
   "id": "848e8713",
   "metadata": {},
   "outputs": [
    {
     "data": {
      "text/html": [
       "<ol class=list-inline>\n",
       "\t<li>FALSE</li>\n",
       "\t<li>FALSE</li>\n",
       "\t<li>TRUE</li>\n",
       "\t<li>FALSE</li>\n",
       "</ol>\n"
      ],
      "text/latex": [
       "\\begin{enumerate*}\n",
       "\\item FALSE\n",
       "\\item FALSE\n",
       "\\item TRUE\n",
       "\\item FALSE\n",
       "\\end{enumerate*}\n"
      ],
      "text/markdown": [
       "1. FALSE\n",
       "2. FALSE\n",
       "3. TRUE\n",
       "4. FALSE\n",
       "\n",
       "\n"
      ],
      "text/plain": [
       "[1] FALSE FALSE  TRUE FALSE"
      ]
     },
     "metadata": {},
     "output_type": "display_data"
    }
   ],
   "source": [
    "vec1 > vec2"
   ]
  },
  {
   "cell_type": "code",
   "execution_count": 7,
   "id": "5d8293a2",
   "metadata": {},
   "outputs": [
    {
     "data": {
      "text/html": [
       "<ol class=list-inline>\n",
       "\t<li>TRUE</li>\n",
       "\t<li>TRUE</li>\n",
       "\t<li>FALSE</li>\n",
       "\t<li>TRUE</li>\n",
       "</ol>\n"
      ],
      "text/latex": [
       "\\begin{enumerate*}\n",
       "\\item TRUE\n",
       "\\item TRUE\n",
       "\\item FALSE\n",
       "\\item TRUE\n",
       "\\end{enumerate*}\n"
      ],
      "text/markdown": [
       "1. TRUE\n",
       "2. TRUE\n",
       "3. FALSE\n",
       "4. TRUE\n",
       "\n",
       "\n"
      ],
      "text/plain": [
       "[1]  TRUE  TRUE FALSE  TRUE"
      ]
     },
     "metadata": {},
     "output_type": "display_data"
    }
   ],
   "source": [
    "vec1 < vec2"
   ]
  },
  {
   "cell_type": "code",
   "execution_count": 8,
   "id": "d85d86f5",
   "metadata": {},
   "outputs": [
    {
     "data": {
      "text/html": [
       "<ol class=list-inline>\n",
       "\t<li>TRUE</li>\n",
       "\t<li>TRUE</li>\n",
       "\t<li>TRUE</li>\n",
       "\t<li>TRUE</li>\n",
       "</ol>\n"
      ],
      "text/latex": [
       "\\begin{enumerate*}\n",
       "\\item TRUE\n",
       "\\item TRUE\n",
       "\\item TRUE\n",
       "\\item TRUE\n",
       "\\end{enumerate*}\n"
      ],
      "text/markdown": [
       "1. TRUE\n",
       "2. TRUE\n",
       "3. TRUE\n",
       "4. TRUE\n",
       "\n",
       "\n"
      ],
      "text/plain": [
       "[1] TRUE TRUE TRUE TRUE"
      ]
     },
     "metadata": {},
     "output_type": "display_data"
    }
   ],
   "source": [
    "vec1 != vec2"
   ]
  },
  {
   "cell_type": "code",
   "execution_count": null,
   "id": "1d886804",
   "metadata": {},
   "outputs": [],
   "source": [
    "# The %in% operator "
   ]
  },
  {
   "cell_type": "code",
   "execution_count": 9,
   "id": "8c7f8156",
   "metadata": {},
   "outputs": [
    {
     "data": {
      "text/html": [
       "TRUE"
      ],
      "text/latex": [
       "TRUE"
      ],
      "text/markdown": [
       "TRUE"
      ],
      "text/plain": [
       "[1] TRUE"
      ]
     },
     "metadata": {},
     "output_type": "display_data"
    }
   ],
   "source": [
    "12 %in% 10:20 # that means, is 12 present in a vector 10:20 "
   ]
  },
  {
   "cell_type": "code",
   "execution_count": 10,
   "id": "d39bbdb3",
   "metadata": {},
   "outputs": [
    {
     "data": {
      "text/html": [
       "FALSE"
      ],
      "text/latex": [
       "FALSE"
      ],
      "text/markdown": [
       "FALSE"
      ],
      "text/plain": [
       "[1] FALSE"
      ]
     },
     "metadata": {},
     "output_type": "display_data"
    }
   ],
   "source": [
    "2 %in% 4:6 "
   ]
  },
  {
   "cell_type": "code",
   "execution_count": 12,
   "id": "c046646c",
   "metadata": {},
   "outputs": [
    {
     "data": {
      "text/html": [
       "TRUE"
      ],
      "text/latex": [
       "TRUE"
      ],
      "text/markdown": [
       "TRUE"
      ],
      "text/plain": [
       "[1] TRUE"
      ]
     },
     "metadata": {},
     "output_type": "display_data"
    }
   ],
   "source": [
    "\"Jay\" %in% c(\"Jay\", \"Jam\", \"Jack\") # is Jay present in the vector "
   ]
  },
  {
   "cell_type": "code",
   "execution_count": 15,
   "id": "2931e44d",
   "metadata": {},
   "outputs": [
    {
     "data": {
      "text/html": [
       "TRUE"
      ],
      "text/latex": [
       "TRUE"
      ],
      "text/markdown": [
       "TRUE"
      ],
      "text/plain": [
       "[1] TRUE"
      ]
     },
     "metadata": {},
     "output_type": "display_data"
    }
   ],
   "source": [
    "! \"Jay\" %in% c(\"Jas\", \"Jam\", \"Jack\") # ! sign is used for negation"
   ]
  },
  {
   "cell_type": "markdown",
   "id": "4133f76c",
   "metadata": {},
   "source": [
    "# Now lets see length function "
   ]
  },
  {
   "cell_type": "code",
   "execution_count": 16,
   "id": "0b47f7de",
   "metadata": {},
   "outputs": [
    {
     "data": {
      "text/html": [
       "6"
      ],
      "text/latex": [
       "6"
      ],
      "text/markdown": [
       "6"
      ],
      "text/plain": [
       "[1] 6"
      ]
     },
     "metadata": {},
     "output_type": "display_data"
    }
   ],
   "source": [
    "vec4<- 1:6\n",
    "length(vec4)"
   ]
  },
  {
   "cell_type": "markdown",
   "id": "ee012270",
   "metadata": {},
   "source": [
    "# The sample function "
   ]
  },
  {
   "cell_type": "markdown",
   "id": "52c15bc0",
   "metadata": {},
   "source": [
    "vec4 <- 1:100\n",
    "sample(vec4, size = 10) # it will select 10 random values from vector"
   ]
  },
  {
   "cell_type": "code",
   "execution_count": 20,
   "id": "1bd3f595",
   "metadata": {},
   "outputs": [
    {
     "data": {
      "text/html": [
       "<ol class=list-inline>\n",
       "\t<li>38</li>\n",
       "\t<li>63</li>\n",
       "\t<li>2</li>\n",
       "\t<li>29</li>\n",
       "\t<li>94</li>\n",
       "\t<li>62</li>\n",
       "\t<li>45</li>\n",
       "\t<li>41</li>\n",
       "\t<li>67</li>\n",
       "\t<li>61</li>\n",
       "</ol>\n"
      ],
      "text/latex": [
       "\\begin{enumerate*}\n",
       "\\item 38\n",
       "\\item 63\n",
       "\\item 2\n",
       "\\item 29\n",
       "\\item 94\n",
       "\\item 62\n",
       "\\item 45\n",
       "\\item 41\n",
       "\\item 67\n",
       "\\item 61\n",
       "\\end{enumerate*}\n"
      ],
      "text/markdown": [
       "1. 38\n",
       "2. 63\n",
       "3. 2\n",
       "4. 29\n",
       "5. 94\n",
       "6. 62\n",
       "7. 45\n",
       "8. 41\n",
       "9. 67\n",
       "10. 61\n",
       "\n",
       "\n"
      ],
      "text/plain": [
       " [1] 38 63  2 29 94 62 45 41 67 61"
      ]
     },
     "metadata": {},
     "output_type": "display_data"
    }
   ],
   "source": [
    "# you can control this randomness by another function set.seed()\n",
    "vec4 <- 1:100\n",
    "sample(vec4, size = 10)\n",
    "set.seed(20)"
   ]
  },
  {
   "cell_type": "code",
   "execution_count": 21,
   "id": "588948bb",
   "metadata": {},
   "outputs": [
    {
     "data": {
      "text/html": [
       "<ol class=list-inline>\n",
       "\t<li>38</li>\n",
       "\t<li>63</li>\n",
       "\t<li>2</li>\n",
       "\t<li>29</li>\n",
       "\t<li>94</li>\n",
       "\t<li>62</li>\n",
       "\t<li>45</li>\n",
       "\t<li>41</li>\n",
       "\t<li>67</li>\n",
       "\t<li>61</li>\n",
       "</ol>\n"
      ],
      "text/latex": [
       "\\begin{enumerate*}\n",
       "\\item 38\n",
       "\\item 63\n",
       "\\item 2\n",
       "\\item 29\n",
       "\\item 94\n",
       "\\item 62\n",
       "\\item 45\n",
       "\\item 41\n",
       "\\item 67\n",
       "\\item 61\n",
       "\\end{enumerate*}\n"
      ],
      "text/markdown": [
       "1. 38\n",
       "2. 63\n",
       "3. 2\n",
       "4. 29\n",
       "5. 94\n",
       "6. 62\n",
       "7. 45\n",
       "8. 41\n",
       "9. 67\n",
       "10. 61\n",
       "\n",
       "\n"
      ],
      "text/plain": [
       " [1] 38 63  2 29 94 62 45 41 67 61"
      ]
     },
     "metadata": {},
     "output_type": "display_data"
    }
   ],
   "source": [
    "vec4 <- 1:100 \n",
    "sample(vec4, size = 10)\n",
    "set.seed(20)"
   ]
  },
  {
   "cell_type": "markdown",
   "id": "3e2023a8",
   "metadata": {},
   "source": [
    "# Lets start now numeric vectors now \n"
   ]
  },
  {
   "cell_type": "code",
   "execution_count": 27,
   "id": "b4f4a868",
   "metadata": {},
   "outputs": [
    {
     "data": {
      "text/html": [
       "100"
      ],
      "text/latex": [
       "100"
      ],
      "text/markdown": [
       "100"
      ],
      "text/plain": [
       "[1] 100"
      ]
     },
     "metadata": {},
     "output_type": "display_data"
    },
    {
     "data": {
      "text/html": [
       "2.5"
      ],
      "text/latex": [
       "2.5"
      ],
      "text/markdown": [
       "2.5"
      ],
      "text/plain": [
       "[1] 2.5"
      ]
     },
     "metadata": {},
     "output_type": "display_data"
    },
    {
     "data": {
      "text/html": [
       "24.324"
      ],
      "text/latex": [
       "24.324"
      ],
      "text/markdown": [
       "24.324"
      ],
      "text/plain": [
       "[1] 24.324"
      ]
     },
     "metadata": {},
     "output_type": "display_data"
    },
    {
     "data": {
      "text/html": [
       "145.944"
      ],
      "text/latex": [
       "145.944"
      ],
      "text/markdown": [
       "145.944"
      ],
      "text/plain": [
       "[1] 145.944"
      ]
     },
     "metadata": {},
     "output_type": "display_data"
    },
    {
     "data": {
      "text/html": [
       "38.5150808904772"
      ],
      "text/latex": [
       "38.5150808904772"
      ],
      "text/markdown": [
       "38.5150808904772"
      ],
      "text/plain": [
       "[1] 38.51508"
      ]
     },
     "metadata": {},
     "output_type": "display_data"
    }
   ],
   "source": [
    "my_num <- c(5, 100, 30, 4, 2.5, 4.444)\n",
    "max(my_num)\n",
    "min(my_num)\n",
    "mean(my_num)\n",
    "sum(my_num)\n",
    "sd(my_num)"
   ]
  }
 ],
 "metadata": {
  "kernelspec": {
   "display_name": "R",
   "language": "R",
   "name": "ir"
  },
  "language_info": {
   "codemirror_mode": "r",
   "file_extension": ".r",
   "mimetype": "text/x-r-source",
   "name": "R",
   "pygments_lexer": "r",
   "version": "3.6.1"
  }
 },
 "nbformat": 4,
 "nbformat_minor": 5
}
