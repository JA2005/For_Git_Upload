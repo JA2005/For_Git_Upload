{
 "cells": [
  {
   "cell_type": "markdown",
   "id": "3ae89041",
   "metadata": {},
   "source": [
    "# What are Factors in R?\n"
   ]
  },
  {
   "cell_type": "markdown",
   "id": "92d5efa7",
   "metadata": {},
   "source": [
    "* Factors are similar to vectors however factor add more information to a vector.\n",
    "* Factor function can converts character vector into a vector of integer values, so integer corresponds to a set of character values when a factor is used. \n",
    "* Additionally, it gives a particulr order to values."
   ]
  },
  {
   "cell_type": "code",
   "execution_count": 1,
   "id": "9ce32318",
   "metadata": {},
   "outputs": [
    {
     "data": {
      "text/html": [
       "<ol class=list-inline>\n",
       "\t<li>30</li>\n",
       "\t<li>40</li>\n",
       "\t<li>80</li>\n",
       "\t<li>60</li>\n",
       "\t<li>90</li>\n",
       "</ol>\n",
       "\n",
       "<details>\n",
       "\t<summary style=display:list-item;cursor:pointer>\n",
       "\t\t<strong>Levels</strong>:\n",
       "\t</summary>\n",
       "\t<ol class=list-inline>\n",
       "\t\t<li>'30'</li>\n",
       "\t\t<li>'40'</li>\n",
       "\t\t<li>'60'</li>\n",
       "\t\t<li>'80'</li>\n",
       "\t\t<li>'90'</li>\n",
       "\t</ol>\n",
       "</details>"
      ],
      "text/latex": [
       "\\begin{enumerate*}\n",
       "\\item 30\n",
       "\\item 40\n",
       "\\item 80\n",
       "\\item 60\n",
       "\\item 90\n",
       "\\end{enumerate*}\n",
       "\n",
       "\\emph{Levels}: \\begin{enumerate*}\n",
       "\\item '30'\n",
       "\\item '40'\n",
       "\\item '60'\n",
       "\\item '80'\n",
       "\\item '90'\n",
       "\\end{enumerate*}\n"
      ],
      "text/markdown": [
       "1. 30\n",
       "2. 40\n",
       "3. 80\n",
       "4. 60\n",
       "5. 90\n",
       "\n",
       "\n",
       "\n",
       "**Levels**: 1. '30'\n",
       "2. '40'\n",
       "3. '60'\n",
       "4. '80'\n",
       "5. '90'\n",
       "\n",
       "\n"
      ],
      "text/plain": [
       "[1] 30 40 80 60 90\n",
       "Levels: 30 40 60 80 90"
      ]
     },
     "metadata": {},
     "output_type": "display_data"
    }
   ],
   "source": [
    "my_fac <- factor(x = c(30, 40, 80, 60, 90))\n",
    "my_fac"
   ]
  },
  {
   "cell_type": "code",
   "execution_count": 3,
   "id": "d601e589",
   "metadata": {},
   "outputs": [
    {
     "data": {
      "text/html": [
       "<dl class=dl-horizontal>\n",
       "\t<dt>Jay1</dt>\n",
       "\t\t<dd>30</dd>\n",
       "\t<dt>Jay2</dt>\n",
       "\t\t<dd>40</dd>\n",
       "\t<dt>Jay3</dt>\n",
       "\t\t<dd>80</dd>\n",
       "\t<dt>Jay4</dt>\n",
       "\t\t<dd>60</dd>\n",
       "\t<dt>Jay5</dt>\n",
       "\t\t<dd>90</dd>\n",
       "</dl>\n",
       "\n",
       "<details>\n",
       "\t<summary style=display:list-item;cursor:pointer>\n",
       "\t\t<strong>Levels</strong>:\n",
       "\t</summary>\n",
       "\t<ol class=list-inline>\n",
       "\t\t<li>'30'</li>\n",
       "\t\t<li>'40'</li>\n",
       "\t\t<li>'60'</li>\n",
       "\t\t<li>'80'</li>\n",
       "\t\t<li>'90'</li>\n",
       "\t</ol>\n",
       "</details>"
      ],
      "text/latex": [
       "\\begin{description*}\n",
       "\\item[Jay1] 30\n",
       "\\item[Jay2] 40\n",
       "\\item[Jay3] 80\n",
       "\\item[Jay4] 60\n",
       "\\item[Jay5] 90\n",
       "\\end{description*}\n",
       "\n",
       "\\emph{Levels}: \\begin{enumerate*}\n",
       "\\item '30'\n",
       "\\item '40'\n",
       "\\item '60'\n",
       "\\item '80'\n",
       "\\item '90'\n",
       "\\end{enumerate*}\n"
      ],
      "text/markdown": [
       "Jay1\n",
       ":   30Jay2\n",
       ":   40Jay3\n",
       ":   80Jay4\n",
       ":   60Jay5\n",
       ":   90\n",
       "\n",
       "\n",
       "**Levels**: 1. '30'\n",
       "2. '40'\n",
       "3. '60'\n",
       "4. '80'\n",
       "5. '90'\n",
       "\n",
       "\n"
      ],
      "text/plain": [
       "Jay1 Jay2 Jay3 Jay4 Jay5 \n",
       "  30   40   80   60   90 \n",
       "Levels: 30 40 60 80 90"
      ]
     },
     "metadata": {},
     "output_type": "display_data"
    }
   ],
   "source": [
    "# We can also name factors \n",
    "\n",
    "names(my_fac) <- c(\"Jay1\", \"Jay2\", \"Jay3\", \"Jay4\", \"Jay5\")\n",
    "my_fac"
   ]
  },
  {
   "cell_type": "code",
   "execution_count": 6,
   "id": "c8742ac9",
   "metadata": {
    "scrolled": true
   },
   "outputs": [
    {
     "data": {
      "text/html": [
       "<strong>Jay1:</strong> 30\n",
       "<details>\n",
       "\t<summary style=display:list-item;cursor:pointer>\n",
       "\t\t<strong>Levels</strong>:\n",
       "\t</summary>\n",
       "\t<ol class=list-inline>\n",
       "\t\t<li>'30'</li>\n",
       "\t\t<li>'40'</li>\n",
       "\t\t<li>'60'</li>\n",
       "\t\t<li>'80'</li>\n",
       "\t\t<li>'90'</li>\n",
       "\t</ol>\n",
       "</details>"
      ],
      "text/latex": [
       "\\textbf{Jay1:} 30\n",
       "\\emph{Levels}: \\begin{enumerate*}\n",
       "\\item '30'\n",
       "\\item '40'\n",
       "\\item '60'\n",
       "\\item '80'\n",
       "\\item '90'\n",
       "\\end{enumerate*}\n"
      ],
      "text/markdown": [
       "**Jay1:** 30\n",
       "**Levels**: 1. '30'\n",
       "2. '40'\n",
       "3. '60'\n",
       "4. '80'\n",
       "5. '90'\n",
       "\n",
       "\n"
      ],
      "text/plain": [
       "Jay1 \n",
       "  30 \n",
       "Levels: 30 40 60 80 90"
      ]
     },
     "metadata": {},
     "output_type": "display_data"
    }
   ],
   "source": [
    "# Can be accessed as vectors \n",
    "my_fac[1]"
   ]
  },
  {
   "cell_type": "code",
   "execution_count": 7,
   "id": "de036028",
   "metadata": {},
   "outputs": [
    {
     "data": {
      "text/html": [
       "<strong>Jay3:</strong> 80\n",
       "<details>\n",
       "\t<summary style=display:list-item;cursor:pointer>\n",
       "\t\t<strong>Levels</strong>:\n",
       "\t</summary>\n",
       "\t<ol class=list-inline>\n",
       "\t\t<li>'30'</li>\n",
       "\t\t<li>'40'</li>\n",
       "\t\t<li>'60'</li>\n",
       "\t\t<li>'80'</li>\n",
       "\t\t<li>'90'</li>\n",
       "\t</ol>\n",
       "</details>"
      ],
      "text/latex": [
       "\\textbf{Jay3:} 80\n",
       "\\emph{Levels}: \\begin{enumerate*}\n",
       "\\item '30'\n",
       "\\item '40'\n",
       "\\item '60'\n",
       "\\item '80'\n",
       "\\item '90'\n",
       "\\end{enumerate*}\n"
      ],
      "text/markdown": [
       "**Jay3:** 80\n",
       "**Levels**: 1. '30'\n",
       "2. '40'\n",
       "3. '60'\n",
       "4. '80'\n",
       "5. '90'\n",
       "\n",
       "\n"
      ],
      "text/plain": [
       "Jay3 \n",
       "  80 \n",
       "Levels: 30 40 60 80 90"
      ]
     },
     "metadata": {},
     "output_type": "display_data"
    }
   ],
   "source": [
    "my_fac[\"Jay3\"]"
   ]
  }
 ],
 "metadata": {
  "kernelspec": {
   "display_name": "R",
   "language": "R",
   "name": "ir"
  },
  "language_info": {
   "codemirror_mode": "r",
   "file_extension": ".r",
   "mimetype": "text/x-r-source",
   "name": "R",
   "pygments_lexer": "r",
   "version": "3.6.1"
  }
 },
 "nbformat": 4,
 "nbformat_minor": 5
}
