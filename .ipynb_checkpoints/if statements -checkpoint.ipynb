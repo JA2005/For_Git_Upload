{
 "cells": [
  {
   "cell_type": "markdown",
   "id": "acae8e0e",
   "metadata": {},
   "source": [
    "# if statements\n"
   ]
  },
  {
   "cell_type": "code",
   "execution_count": 6,
   "id": "469be7d6",
   "metadata": {},
   "outputs": [],
   "source": [
    "x = 4   # code will not run in this case \n",
    "if (x > 5) {\n",
    "    print(\"x is greater than 5\")\n",
    "}"
   ]
  },
  {
   "cell_type": "code",
   "execution_count": 7,
   "id": "1765c5bd",
   "metadata": {},
   "outputs": [
    {
     "name": "stdout",
     "output_type": "stream",
     "text": [
      "[1] \"x is greater than 5\"\n"
     ]
    }
   ],
   "source": [
    "x = 6\n",
    "if (x > 5) {\n",
    "    print(\"x is greater than 5\")\n",
    "}"
   ]
  },
  {
   "cell_type": "markdown",
   "id": "120ea57f",
   "metadata": {},
   "source": [
    "# if else statements\n"
   ]
  },
  {
   "cell_type": "code",
   "execution_count": 8,
   "id": "64ed2130",
   "metadata": {},
   "outputs": [
    {
     "name": "stdout",
     "output_type": "stream",
     "text": [
      "[1] \"x is not greater then 5\"\n"
     ]
    }
   ],
   "source": [
    "x = 4   \n",
    "if (x > 5) {\n",
    "    print(\"x is greater than 5\")\n",
    "} else {\n",
    "    print(\"x is not greater then 5\")\n",
    "}"
   ]
  },
  {
   "cell_type": "code",
   "execution_count": 9,
   "id": "4450bf85",
   "metadata": {},
   "outputs": [
    {
     "name": "stdout",
     "output_type": "stream",
     "text": [
      "[1] \"x is greater than 5\"\n"
     ]
    }
   ],
   "source": [
    "x = 6   \n",
    "if (x > 5) {\n",
    "    print(\"x is greater than 5\")\n",
    "} else {\n",
    "    print(\"x is not greater then 5\")\n",
    "}"
   ]
  },
  {
   "cell_type": "markdown",
   "id": "c8ca78e8",
   "metadata": {},
   "source": [
    "# if, else if, else statements\n",
    "## you can add as many as \"else if \"conditions "
   ]
  },
  {
   "cell_type": "code",
   "execution_count": 23,
   "id": "b71e5531",
   "metadata": {},
   "outputs": [
    {
     "name": "stdout",
     "output_type": "stream",
     "text": [
      "[1] \"x is zero\"\n"
     ]
    }
   ],
   "source": [
    "x = 0   \n",
    "if (x > 0) {\n",
    "    print(\"x is positive\")\n",
    "} else if (x ==0) {\n",
    "    print(\"x is zero\")     \n",
    "    } else {\n",
    "    print(\"x is negative\")\n",
    "}\n"
   ]
  },
  {
   "cell_type": "code",
   "execution_count": 11,
   "id": "05132b49",
   "metadata": {},
   "outputs": [
    {
     "name": "stdout",
     "output_type": "stream",
     "text": [
      "[1] \"x is negative\"\n"
     ]
    }
   ],
   "source": [
    "x = -1   \n",
    "if (x > 0) {\n",
    "    print(\"x is positive\")\n",
    "} else if (x ==0) {\n",
    "    print(\"x is zero\")     \n",
    "    } else {\n",
    "    print(\"x is negative\")\n",
    "}\n"
   ]
  },
  {
   "cell_type": "markdown",
   "id": "a5bd019e",
   "metadata": {},
   "source": [
    "# Lets start \"Loops\" now \n",
    "* for loops \n",
    "* while loops\n"
   ]
  },
  {
   "cell_type": "code",
   "execution_count": 13,
   "id": "9970843e",
   "metadata": {
    "scrolled": true
   },
   "outputs": [
    {
     "name": "stdout",
     "output_type": "stream",
     "text": [
      "[1] \"Mon\"\n",
      "[1] \"Tue\"\n",
      "[1] \"Wed\"\n",
      "[1] \"Thu\"\n",
      "[1] \"Fri\"\n",
      "[1] \"Sat\"\n",
      "[1] \"Sun\"\n"
     ]
    }
   ],
   "source": [
    "days_of_week <- c(\"Mon\", \"Tue\", \"Wed\", \"Thu\",\"Fri\",\"Sat\",\"Sun\")\n",
    "for (day in days_of_week){\n",
    "    print(day)\n",
    "}\n"
   ]
  },
  {
   "cell_type": "markdown",
   "id": "f3a4dc69",
   "metadata": {},
   "source": [
    "# While loop - infinite "
   ]
  },
  {
   "cell_type": "code",
   "execution_count": 18,
   "id": "e7ed7ce6",
   "metadata": {},
   "outputs": [
    {
     "name": "stdout",
     "output_type": "stream",
     "text": [
      "[1] 5\n",
      "[1] 4\n",
      "[1] 3\n",
      "[1] 2\n",
      "[1] 1\n"
     ]
    }
   ],
   "source": [
    "x <- 5\n",
    "while (x > 0) {\n",
    "    print(x)\n",
    "    x <- x-1\n",
    "}"
   ]
  },
  {
   "cell_type": "markdown",
   "id": "bb68f84b",
   "metadata": {},
   "source": [
    "# functions \n",
    "* can take an input and perform an operation "
   ]
  },
  {
   "cell_type": "code",
   "execution_count": 20,
   "id": "6c8de7e7",
   "metadata": {},
   "outputs": [
    {
     "name": "stdout",
     "output_type": "stream",
     "text": [
      "[1] \"The square of  5 is 25\"\n"
     ]
    }
   ],
   "source": [
    "square_me <- function (x) {\n",
    "    y <- x^2\n",
    "    print(paste(\"The square of \", x,\"is\", y))\n",
    "}\n",
    "square_me(5)"
   ]
  },
  {
   "cell_type": "code",
   "execution_count": 21,
   "id": "24506ce7",
   "metadata": {},
   "outputs": [
    {
     "name": "stdout",
     "output_type": "stream",
     "text": [
      "[1] \"The square of  56 is 3136\"\n"
     ]
    }
   ],
   "source": [
    "square_me(56)"
   ]
  },
  {
   "cell_type": "code",
   "execution_count": null,
   "id": "3c155788",
   "metadata": {},
   "outputs": [],
   "source": [
    "# Below is the constructor for creating a function \n",
    "function (x) {\n",
    "    y <- x^2\n",
    "    print(paste(\"The square of \", x,\"is\", y))\n",
    "}"
   ]
  }
 ],
 "metadata": {
  "kernelspec": {
   "display_name": "R",
   "language": "R",
   "name": "ir"
  },
  "language_info": {
   "codemirror_mode": "r",
   "file_extension": ".r",
   "mimetype": "text/x-r-source",
   "name": "R",
   "pygments_lexer": "r",
   "version": "3.6.1"
  }
 },
 "nbformat": 4,
 "nbformat_minor": 5
}
