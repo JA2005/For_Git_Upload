{
 "cells": [
  {
   "cell_type": "markdown",
   "id": "e1126c9a",
   "metadata": {},
   "source": [
    "# What are lists in R?"
   ]
  },
  {
   "cell_type": "markdown",
   "id": "9ce381f8",
   "metadata": {},
   "source": [
    "## List is a special type of a dataset that contains different types of data within it. Each element within the data can be totally different. Its a sort of versitle object."
   ]
  },
  {
   "cell_type": "code",
   "execution_count": 1,
   "id": "7d4a1580",
   "metadata": {},
   "outputs": [
    {
     "data": {
      "text/html": [
       "<ol>\n",
       "\t<li>5</li>\n",
       "\t<li>'Hello'</li>\n",
       "\t<li>FALSE</li>\n",
       "\t<li><ol class=list-inline>\n",
       "\t<li>2</li>\n",
       "\t<li>3</li>\n",
       "\t<li>4</li>\n",
       "</ol>\n",
       "</li>\n",
       "</ol>\n"
      ],
      "text/latex": [
       "\\begin{enumerate}\n",
       "\\item 5\n",
       "\\item 'Hello'\n",
       "\\item FALSE\n",
       "\\item \\begin{enumerate*}\n",
       "\\item 2\n",
       "\\item 3\n",
       "\\item 4\n",
       "\\end{enumerate*}\n",
       "\n",
       "\\end{enumerate}\n"
      ],
      "text/markdown": [
       "1. 5\n",
       "2. 'Hello'\n",
       "3. FALSE\n",
       "4. 1. 2\n",
       "2. 3\n",
       "3. 4\n",
       "\n",
       "\n",
       "\n",
       "\n",
       "\n"
      ],
      "text/plain": [
       "[[1]]\n",
       "[1] 5\n",
       "\n",
       "[[2]]\n",
       "[1] \"Hello\"\n",
       "\n",
       "[[3]]\n",
       "[1] FALSE\n",
       "\n",
       "[[4]]\n",
       "[1] 2 3 4\n"
      ]
     },
     "metadata": {},
     "output_type": "display_data"
    }
   ],
   "source": [
    "my_list <- list(5, \"Hello\", FALSE, c(2, 3, 4))\n",
    "my_list"
   ]
  },
  {
   "cell_type": "markdown",
   "id": "c689789e",
   "metadata": {},
   "source": [
    "# Each element of list can also be named by a function \"names\""
   ]
  },
  {
   "cell_type": "code",
   "execution_count": 3,
   "id": "46bc955a",
   "metadata": {},
   "outputs": [
    {
     "data": {
      "text/html": [
       "<dl>\n",
       "\t<dt>$Jay1</dt>\n",
       "\t\t<dd>5</dd>\n",
       "\t<dt>$Jay2</dt>\n",
       "\t\t<dd>'Hello'</dd>\n",
       "\t<dt>$Jay3</dt>\n",
       "\t\t<dd>FALSE</dd>\n",
       "\t<dt>$Jay4</dt>\n",
       "\t\t<dd><ol class=list-inline>\n",
       "\t<li>2</li>\n",
       "\t<li>3</li>\n",
       "\t<li>4</li>\n",
       "</ol>\n",
       "</dd>\n",
       "</dl>\n"
      ],
      "text/latex": [
       "\\begin{description}\n",
       "\\item[\\$Jay1] 5\n",
       "\\item[\\$Jay2] 'Hello'\n",
       "\\item[\\$Jay3] FALSE\n",
       "\\item[\\$Jay4] \\begin{enumerate*}\n",
       "\\item 2\n",
       "\\item 3\n",
       "\\item 4\n",
       "\\end{enumerate*}\n",
       "\n",
       "\\end{description}\n"
      ],
      "text/markdown": [
       "$Jay1\n",
       ":   5\n",
       "$Jay2\n",
       ":   'Hello'\n",
       "$Jay3\n",
       ":   FALSE\n",
       "$Jay4\n",
       ":   1. 2\n",
       "2. 3\n",
       "3. 4\n",
       "\n",
       "\n",
       "\n",
       "\n",
       "\n"
      ],
      "text/plain": [
       "$Jay1\n",
       "[1] 5\n",
       "\n",
       "$Jay2\n",
       "[1] \"Hello\"\n",
       "\n",
       "$Jay3\n",
       "[1] FALSE\n",
       "\n",
       "$Jay4\n",
       "[1] 2 3 4\n"
      ]
     },
     "metadata": {},
     "output_type": "display_data"
    }
   ],
   "source": [
    "names(my_list) <- c(\"Jay1\", \"Jay2\", \"Jay3\", \"Jay4\")\n",
    "my_list"
   ]
  },
  {
   "cell_type": "markdown",
   "id": "bb1a88aa",
   "metadata": {},
   "source": [
    "# Each element can be accessed either by their name or their index"
   ]
  },
  {
   "cell_type": "code",
   "execution_count": 5,
   "id": "187c65f8",
   "metadata": {},
   "outputs": [
    {
     "data": {
      "text/html": [
       "<ol class=list-inline>\n",
       "\t<li>2</li>\n",
       "\t<li>3</li>\n",
       "\t<li>4</li>\n",
       "</ol>\n"
      ],
      "text/latex": [
       "\\begin{enumerate*}\n",
       "\\item 2\n",
       "\\item 3\n",
       "\\item 4\n",
       "\\end{enumerate*}\n"
      ],
      "text/markdown": [
       "1. 2\n",
       "2. 3\n",
       "3. 4\n",
       "\n",
       "\n"
      ],
      "text/plain": [
       "[1] 2 3 4"
      ]
     },
     "metadata": {},
     "output_type": "display_data"
    }
   ],
   "source": [
    "my_list[[4]]"
   ]
  },
  {
   "cell_type": "code",
   "execution_count": 8,
   "id": "ee4b1e3f",
   "metadata": {
    "scrolled": true
   },
   "outputs": [
    {
     "data": {
      "text/html": [
       "'Hello'"
      ],
      "text/latex": [
       "'Hello'"
      ],
      "text/markdown": [
       "'Hello'"
      ],
      "text/plain": [
       "[1] \"Hello\""
      ]
     },
     "metadata": {},
     "output_type": "display_data"
    }
   ],
   "source": [
    "my_list[[\"Jay2\"]]  # This will only work when data element is named otherwise not."
   ]
  },
  {
   "cell_type": "code",
   "execution_count": null,
   "id": "b0730550",
   "metadata": {},
   "outputs": [],
   "source": []
  }
 ],
 "metadata": {
  "kernelspec": {
   "display_name": "R",
   "language": "R",
   "name": "ir"
  },
  "language_info": {
   "codemirror_mode": "r",
   "file_extension": ".r",
   "mimetype": "text/x-r-source",
   "name": "R",
   "pygments_lexer": "r",
   "version": "3.6.1"
  }
 },
 "nbformat": 4,
 "nbformat_minor": 5
}
