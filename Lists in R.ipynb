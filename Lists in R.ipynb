{
 "cells": [
  {
   "cell_type": "markdown",
   "id": "32a71b59",
   "metadata": {},
   "source": [
    "# What are lists in R?"
   ]
  },
  {
   "cell_type": "code",
   "execution_count": null,
   "id": "ff9c1cc0",
   "metadata": {},
   "outputs": [],
   "source": []
  }
 ],
 "metadata": {
  "kernelspec": {
   "display_name": "R",
   "language": "R",
   "name": "ir"
  },
  "language_info": {
   "codemirror_mode": "r",
   "file_extension": ".r",
   "mimetype": "text/x-r-source",
   "name": "R",
   "pygments_lexer": "r",
   "version": "3.6.1"
  }
 },
 "nbformat": 4,
 "nbformat_minor": 5
}
