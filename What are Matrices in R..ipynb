{
 "cells": [
  {
   "cell_type": "markdown",
   "id": "68ee099f",
   "metadata": {},
   "source": [
    "# What are \"Matrices\" in R?\n"
   ]
  },
  {
   "cell_type": "markdown",
   "id": "b9ec1968",
   "metadata": {},
   "source": [
    "## Matrix is basically a form or extension of a vector from 1D to 2D. Seems diffficult, dont worry, I will explain.\n",
    "* Matrix is a 2D array of data elements, meaning that it has fixed number of rows and columns\n",
    "* Data frames and matrices share many similarites\n",
    "* Function \"matrix() is used to generate a matrix"
   ]
  },
  {
   "cell_type": "code",
   "execution_count": 14,
   "id": "3528cde3",
   "metadata": {
    "scrolled": true
   },
   "outputs": [
    {
     "data": {
      "text/html": [
       "<table>\n",
       "<tbody>\n",
       "\t<tr><td>1 </td><td>2 </td><td>3 </td><td>4 </td><td> 5</td></tr>\n",
       "\t<tr><td>6 </td><td>7 </td><td>8 </td><td>9 </td><td>10</td></tr>\n",
       "</tbody>\n",
       "</table>\n"
      ],
      "text/latex": [
       "\\begin{tabular}{lllll}\n",
       "\t 1  & 2  & 3  & 4  &  5\\\\\n",
       "\t 6  & 7  & 8  & 9  & 10\\\\\n",
       "\\end{tabular}\n"
      ],
      "text/markdown": [
       "\n",
       "| 1  | 2  | 3  | 4  |  5 |\n",
       "| 6  | 7  | 8  | 9  | 10 |\n",
       "\n"
      ],
      "text/plain": [
       "     [,1] [,2] [,3] [,4] [,5]\n",
       "[1,] 1    2    3    4     5  \n",
       "[2,] 6    7    8    9    10  "
      ]
     },
     "metadata": {},
     "output_type": "display_data"
    }
   ],
   "source": [
    "my_mat <- matrix(1:10, nrow = 2, ncol = 5, byrow = TRUE)\n",
    "my_mat"
   ]
  },
  {
   "cell_type": "code",
   "execution_count": 15,
   "id": "b65c1951",
   "metadata": {},
   "outputs": [
    {
     "data": {
      "text/html": [
       "<table>\n",
       "<tbody>\n",
       "\t<tr><td>1 </td><td>3 </td><td>5 </td><td>7 </td><td> 9</td></tr>\n",
       "\t<tr><td>2 </td><td>4 </td><td>6 </td><td>8 </td><td>10</td></tr>\n",
       "</tbody>\n",
       "</table>\n"
      ],
      "text/latex": [
       "\\begin{tabular}{lllll}\n",
       "\t 1  & 3  & 5  & 7  &  9\\\\\n",
       "\t 2  & 4  & 6  & 8  & 10\\\\\n",
       "\\end{tabular}\n"
      ],
      "text/markdown": [
       "\n",
       "| 1  | 3  | 5  | 7  |  9 |\n",
       "| 2  | 4  | 6  | 8  | 10 |\n",
       "\n"
      ],
      "text/plain": [
       "     [,1] [,2] [,3] [,4] [,5]\n",
       "[1,] 1    3    5    7     9  \n",
       "[2,] 2    4    6    8    10  "
      ]
     },
     "metadata": {},
     "output_type": "display_data"
    }
   ],
   "source": [
    "my_mat <- matrix(1:10, nrow = 2, ncol = 5, byrow = FALSE)\n",
    "my_mat # Did you see the change by changing byrow to FALSE?"
   ]
  },
  {
   "cell_type": "markdown",
   "id": "0029b89b",
   "metadata": {},
   "source": [
    "# Matrices can also be named"
   ]
  },
  {
   "cell_type": "code",
   "execution_count": 16,
   "id": "471895d3",
   "metadata": {},
   "outputs": [],
   "source": [
    "colnames(my_mat) <- c(\"col1\", \"col2\", \"col3\", \"col4\", \"col5\")\n",
    "rownames(my_mat) <- c(\"row1\", \"row2\")"
   ]
  },
  {
   "cell_type": "code",
   "execution_count": 17,
   "id": "91262b93",
   "metadata": {},
   "outputs": [
    {
     "data": {
      "text/html": [
       "<table>\n",
       "<thead><tr><th></th><th scope=col>col1</th><th scope=col>col2</th><th scope=col>col3</th><th scope=col>col4</th><th scope=col>col5</th></tr></thead>\n",
       "<tbody>\n",
       "\t<tr><th scope=row>row1</th><td>1 </td><td>3 </td><td>5 </td><td>7 </td><td> 9</td></tr>\n",
       "\t<tr><th scope=row>row2</th><td>2 </td><td>4 </td><td>6 </td><td>8 </td><td>10</td></tr>\n",
       "</tbody>\n",
       "</table>\n"
      ],
      "text/latex": [
       "\\begin{tabular}{r|lllll}\n",
       "  & col1 & col2 & col3 & col4 & col5\\\\\n",
       "\\hline\n",
       "\trow1 & 1  & 3  & 5  & 7  &  9\\\\\n",
       "\trow2 & 2  & 4  & 6  & 8  & 10\\\\\n",
       "\\end{tabular}\n"
      ],
      "text/markdown": [
       "\n",
       "| <!--/--> | col1 | col2 | col3 | col4 | col5 |\n",
       "|---|---|---|---|---|---|\n",
       "| row1 | 1  | 3  | 5  | 7  |  9 |\n",
       "| row2 | 2  | 4  | 6  | 8  | 10 |\n",
       "\n"
      ],
      "text/plain": [
       "     col1 col2 col3 col4 col5\n",
       "row1 1    3    5    7     9  \n",
       "row2 2    4    6    8    10  "
      ]
     },
     "metadata": {},
     "output_type": "display_data"
    }
   ],
   "source": [
    "my_mat"
   ]
  },
  {
   "cell_type": "markdown",
   "id": "91e19fd6",
   "metadata": {},
   "source": [
    "# Elements can also be accessed by indices or row or col names"
   ]
  },
  {
   "cell_type": "code",
   "execution_count": 18,
   "id": "8d3866fb",
   "metadata": {},
   "outputs": [
    {
     "data": {
      "text/html": [
       "8"
      ],
      "text/latex": [
       "8"
      ],
      "text/markdown": [
       "8"
      ],
      "text/plain": [
       "[1] 8"
      ]
     },
     "metadata": {},
     "output_type": "display_data"
    },
    {
     "data": {
      "text/html": [
       "5"
      ],
      "text/latex": [
       "5"
      ],
      "text/markdown": [
       "5"
      ],
      "text/plain": [
       "[1] 5"
      ]
     },
     "metadata": {},
     "output_type": "display_data"
    }
   ],
   "source": [
    "my_mat[2,4]\n",
    "my_mat[1,3]"
   ]
  },
  {
   "cell_type": "code",
   "execution_count": 13,
   "id": "7ccf6eed",
   "metadata": {},
   "outputs": [
    {
     "data": {
      "text/html": [
       "9"
      ],
      "text/latex": [
       "9"
      ],
      "text/markdown": [
       "9"
      ],
      "text/plain": [
       "[1] 9"
      ]
     },
     "metadata": {},
     "output_type": "display_data"
    }
   ],
   "source": [
    "my_mat[\"row1\", \"col5\"]"
   ]
  }
 ],
 "metadata": {
  "kernelspec": {
   "display_name": "R",
   "language": "R",
   "name": "ir"
  },
  "language_info": {
   "codemirror_mode": "r",
   "file_extension": ".r",
   "mimetype": "text/x-r-source",
   "name": "R",
   "pygments_lexer": "r",
   "version": "3.6.1"
  }
 },
 "nbformat": 4,
 "nbformat_minor": 5
}
