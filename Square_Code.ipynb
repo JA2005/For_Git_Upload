{
 "cells": [
  {
   "cell_type": "markdown",
   "id": "96f6de2d",
   "metadata": {},
   "source": [
    "# Simple code to use for taking square of any number in R"
   ]
  },
  {
   "cell_type": "code",
   "execution_count": 2,
   "id": "1fd4f110",
   "metadata": {
    "vscode": {
     "languageId": "r"
    }
   },
   "outputs": [
    {
     "name": "stdout",
     "output_type": "stream",
     "text": [
      "[1] \"The square of  5 is 25\"\n"
     ]
    }
   ],
   "source": [
    "square_me <- function (x) {\n",
    "    y <- x^2\n",
    "    print(paste(\"The square of \", x,\"is\", y))\n",
    "}\n",
    "square_me(5)"
   ]
  },
  {
   "cell_type": "code",
   "execution_count": 3,
   "id": "9d5edd1c",
   "metadata": {
    "vscode": {
     "languageId": "r"
    }
   },
   "outputs": [
    {
     "name": "stdout",
     "output_type": "stream",
     "text": [
      "[1] \"The square of  25 is 625\"\n"
     ]
    }
   ],
   "source": [
    "square_me(25)"
   ]
  },
  {
   "cell_type": "code",
   "execution_count": 4,
   "id": "f3478136",
   "metadata": {
    "vscode": {
     "languageId": "r"
    }
   },
   "outputs": [
    {
     "name": "stdout",
     "output_type": "stream",
     "text": [
      "[1] \"The square of  125 is 15625\"\n"
     ]
    }
   ],
   "source": [
    "square_me(125)"
   ]
  },
  {
   "cell_type": "code",
   "execution_count": 5,
   "id": "05268831",
   "metadata": {
    "vscode": {
     "languageId": "r"
    }
   },
   "outputs": [
    {
     "name": "stdout",
     "output_type": "stream",
     "text": [
      "[1] \"The square of  15625 is 244140625\"\n"
     ]
    }
   ],
   "source": [
    "square_me(15625)"
   ]
  },
  {
   "cell_type": "markdown",
   "id": "23c054da",
   "metadata": {},
   "source": [
    "# So just add whatever number you want to square in the round brackets and see the magic :)"
   ]
  },
  {
   "cell_type": "markdown",
   "id": "327a9d51",
   "metadata": {},
   "source": [
    "# Did you like ?"
   ]
  }
 ],
 "metadata": {
  "kernelspec": {
   "display_name": "R",
   "language": "R",
   "name": "ir"
  },
  "language_info": {
   "codemirror_mode": "r",
   "file_extension": ".r",
   "mimetype": "text/x-r-source",
   "name": "R",
   "pygments_lexer": "r",
   "version": "3.6.1"
  }
 },
 "nbformat": 4,
 "nbformat_minor": 5
}
