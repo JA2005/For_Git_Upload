{
 "cells": [
  {
   "cell_type": "markdown",
   "id": "dd8baf51",
   "metadata": {},
   "source": [
    "# R Basic operations \n"
   ]
  },
  {
   "cell_type": "markdown",
   "id": "f258b8d3",
   "metadata": {},
   "source": [
    "# Logicals "
   ]
  },
  {
   "cell_type": "code",
   "execution_count": 1,
   "id": "1be34a7f",
   "metadata": {},
   "outputs": [
    {
     "data": {
      "text/html": [
       "TRUE"
      ],
      "text/latex": [
       "TRUE"
      ],
      "text/markdown": [
       "TRUE"
      ],
      "text/plain": [
       "[1] TRUE"
      ]
     },
     "metadata": {},
     "output_type": "display_data"
    },
    {
     "data": {
      "text/html": [
       "FALSE"
      ],
      "text/latex": [
       "FALSE"
      ],
      "text/markdown": [
       "FALSE"
      ],
      "text/plain": [
       "[1] FALSE"
      ]
     },
     "metadata": {},
     "output_type": "display_data"
    }
   ],
   "source": [
    "TRUE\n",
    "FALSE "
   ]
  },
  {
   "cell_type": "markdown",
   "id": "d52ff5ea",
   "metadata": {},
   "source": [
    "# Characters - Anything between single or double quotes "
   ]
  },
  {
   "cell_type": "code",
   "execution_count": 4,
   "id": "23346efc",
   "metadata": {},
   "outputs": [
    {
     "data": {
      "text/html": [
       "'Hello World'"
      ],
      "text/latex": [
       "'Hello World'"
      ],
      "text/markdown": [
       "'Hello World'"
      ],
      "text/plain": [
       "[1] \"Hello World\""
      ]
     },
     "metadata": {},
     "output_type": "display_data"
    },
    {
     "data": {
      "text/html": [
       "'Hello World'"
      ],
      "text/latex": [
       "'Hello World'"
      ],
      "text/markdown": [
       "'Hello World'"
      ],
      "text/plain": [
       "[1] \"Hello World\""
      ]
     },
     "metadata": {},
     "output_type": "display_data"
    }
   ],
   "source": [
    "\"Hello World\"\n",
    "'Hello World'"
   ]
  },
  {
   "cell_type": "markdown",
   "id": "98e1f216",
   "metadata": {},
   "source": [
    "# Every object in R has a class, so how can we determine the class of any objects ? \n",
    "By the way anything in R is an object. "
   ]
  },
  {
   "cell_type": "code",
   "execution_count": 9,
   "id": "18f1f396",
   "metadata": {
    "scrolled": true
   },
   "outputs": [
    {
     "data": {
      "text/html": [
       "'character'"
      ],
      "text/latex": [
       "'character'"
      ],
      "text/markdown": [
       "'character'"
      ],
      "text/plain": [
       "[1] \"character\""
      ]
     },
     "metadata": {},
     "output_type": "display_data"
    },
    {
     "data": {
      "text/html": [
       "'character'"
      ],
      "text/latex": [
       "'character'"
      ],
      "text/markdown": [
       "'character'"
      ],
      "text/plain": [
       "[1] \"character\""
      ]
     },
     "metadata": {},
     "output_type": "display_data"
    },
    {
     "data": {
      "text/html": [
       "'logical'"
      ],
      "text/latex": [
       "'logical'"
      ],
      "text/markdown": [
       "'logical'"
      ],
      "text/plain": [
       "[1] \"logical\""
      ]
     },
     "metadata": {},
     "output_type": "display_data"
    },
    {
     "data": {
      "text/html": [
       "'logical'"
      ],
      "text/latex": [
       "'logical'"
      ],
      "text/markdown": [
       "'logical'"
      ],
      "text/plain": [
       "[1] \"logical\""
      ]
     },
     "metadata": {},
     "output_type": "display_data"
    },
    {
     "data": {
      "text/html": [
       "'numeric'"
      ],
      "text/latex": [
       "'numeric'"
      ],
      "text/markdown": [
       "'numeric'"
      ],
      "text/plain": [
       "[1] \"numeric\""
      ]
     },
     "metadata": {},
     "output_type": "display_data"
    },
    {
     "data": {
      "text/html": [
       "'function'"
      ],
      "text/latex": [
       "'function'"
      ],
      "text/markdown": [
       "'function'"
      ],
      "text/plain": [
       "[1] \"function\""
      ]
     },
     "metadata": {},
     "output_type": "display_data"
    }
   ],
   "source": [
    "class(\"Hello World\")\n",
    "class('Hello World')\n",
    "class(TRUE)\n",
    "class(FALSE)\n",
    "class(12)\n",
    "class(class) # this is a function. "
   ]
  },
  {
   "cell_type": "markdown",
   "id": "6d305aac",
   "metadata": {},
   "source": [
    "## Another function is str, which not only gives the information about the class but also some additional information too. For instance, a class and what it contains. "
   ]
  },
  {
   "cell_type": "code",
   "execution_count": 12,
   "id": "3b6c6d37",
   "metadata": {},
   "outputs": [
    {
     "name": "stdout",
     "output_type": "stream",
     "text": [
      " chr \"Hello World\"\n",
      " chr \"Hello World\"\n",
      " logi TRUE\n",
      " logi FALSE\n",
      " num 12\n",
      " num 12.2\n",
      "function (x)  \n"
     ]
    }
   ],
   "source": [
    "str(\"Hello World\")\n",
    "str('Hello World')\n",
    "str(TRUE)\n",
    "str(FALSE)\n",
    "str(12)\n",
    "str(class) # this is a function. "
   ]
  },
  {
   "cell_type": "markdown",
   "id": "09658d03",
   "metadata": {},
   "source": [
    "### chr is for character, logi is for logical , num is for numeric "
   ]
  },
  {
   "cell_type": "markdown",
   "id": "615bf375",
   "metadata": {},
   "source": [
    "# Basic arthmetics "
   ]
  },
  {
   "cell_type": "code",
   "execution_count": 14,
   "id": "00c81a64",
   "metadata": {},
   "outputs": [
    {
     "data": {
      "text/html": [
       "12"
      ],
      "text/latex": [
       "12"
      ],
      "text/markdown": [
       "12"
      ],
      "text/plain": [
       "[1] 12"
      ]
     },
     "metadata": {},
     "output_type": "display_data"
    },
    {
     "data": {
      "text/html": [
       "4"
      ],
      "text/latex": [
       "4"
      ],
      "text/markdown": [
       "4"
      ],
      "text/plain": [
       "[1] 4"
      ]
     },
     "metadata": {},
     "output_type": "display_data"
    },
    {
     "data": {
      "text/html": [
       "2"
      ],
      "text/latex": [
       "2"
      ],
      "text/markdown": [
       "2"
      ],
      "text/plain": [
       "[1] 2"
      ]
     },
     "metadata": {},
     "output_type": "display_data"
    },
    {
     "data": {
      "text/html": [
       "4096"
      ],
      "text/latex": [
       "4096"
      ],
      "text/markdown": [
       "4096"
      ],
      "text/plain": [
       "[1] 4096"
      ]
     },
     "metadata": {},
     "output_type": "display_data"
    },
    {
     "data": {
      "text/html": [
       "1"
      ],
      "text/latex": [
       "1"
      ],
      "text/markdown": [
       "1"
      ],
      "text/plain": [
       "[1] 1"
      ]
     },
     "metadata": {},
     "output_type": "display_data"
    },
    {
     "data": {
      "text/html": [
       "2"
      ],
      "text/latex": [
       "2"
      ],
      "text/markdown": [
       "2"
      ],
      "text/plain": [
       "[1] 2"
      ]
     },
     "metadata": {},
     "output_type": "display_data"
    }
   ],
   "source": [
    "8 + 4 # addition \n",
    "8 - 4 # substractiom \n",
    "8 / 4 # Division \n",
    "8 ^ 4 # Exponent \n",
    "9 %% 4 # Modulo , finding a remainder \n",
    "14 %% 3"
   ]
  },
  {
   "cell_type": "markdown",
   "id": "e89c2061",
   "metadata": {},
   "source": [
    "# How to do comparision "
   ]
  },
  {
   "cell_type": "code",
   "execution_count": 18,
   "id": "bb380a84",
   "metadata": {},
   "outputs": [
    {
     "data": {
      "text/html": [
       "TRUE"
      ],
      "text/latex": [
       "TRUE"
      ],
      "text/markdown": [
       "TRUE"
      ],
      "text/plain": [
       "[1] TRUE"
      ]
     },
     "metadata": {},
     "output_type": "display_data"
    },
    {
     "data": {
      "text/html": [
       "TRUE"
      ],
      "text/latex": [
       "TRUE"
      ],
      "text/markdown": [
       "TRUE"
      ],
      "text/plain": [
       "[1] TRUE"
      ]
     },
     "metadata": {},
     "output_type": "display_data"
    },
    {
     "data": {
      "text/html": [
       "TRUE"
      ],
      "text/latex": [
       "TRUE"
      ],
      "text/markdown": [
       "TRUE"
      ],
      "text/plain": [
       "[1] TRUE"
      ]
     },
     "metadata": {},
     "output_type": "display_data"
    },
    {
     "data": {
      "text/html": [
       "TRUE"
      ],
      "text/latex": [
       "TRUE"
      ],
      "text/markdown": [
       "TRUE"
      ],
      "text/plain": [
       "[1] TRUE"
      ]
     },
     "metadata": {},
     "output_type": "display_data"
    },
    {
     "data": {
      "text/html": [
       "TRUE"
      ],
      "text/latex": [
       "TRUE"
      ],
      "text/markdown": [
       "TRUE"
      ],
      "text/plain": [
       "[1] TRUE"
      ]
     },
     "metadata": {},
     "output_type": "display_data"
    },
    {
     "data": {
      "text/html": [
       "TRUE"
      ],
      "text/latex": [
       "TRUE"
      ],
      "text/markdown": [
       "TRUE"
      ],
      "text/plain": [
       "[1] TRUE"
      ]
     },
     "metadata": {},
     "output_type": "display_data"
    }
   ],
   "source": [
    "2 == 2   #    == is used for equal \n",
    "2 != 5   #   != not equal\n",
    "2 < 5    #   less than\n",
    "4 > 2    #   greater than\n",
    "4 <= 4   #   less than or equal\n",
    "5 >= 4   #   greater than or equal "
   ]
  },
  {
   "cell_type": "markdown",
   "id": "34df3c00",
   "metadata": {},
   "source": [
    "# Vectors "
   ]
  },
  {
   "cell_type": "markdown",
   "id": "a64c7460",
   "metadata": {},
   "source": [
    "## It is a sequence of data with same data types. It is the most basic unit for storing data. the complex data can be broken down into smaller units like vectors. So how to create vectors. One way is to use \"c\" which stands for \"Concatenate\". Lets try then..\n"
   ]
  },
  {
   "cell_type": "code",
   "execution_count": 20,
   "id": "b4c3812d",
   "metadata": {},
   "outputs": [
    {
     "data": {
      "text/html": [
       "<ol class=list-inline>\n",
       "\t<li>1</li>\n",
       "\t<li>2</li>\n",
       "\t<li>3</li>\n",
       "</ol>\n"
      ],
      "text/latex": [
       "\\begin{enumerate*}\n",
       "\\item 1\n",
       "\\item 2\n",
       "\\item 3\n",
       "\\end{enumerate*}\n"
      ],
      "text/markdown": [
       "1. 1\n",
       "2. 2\n",
       "3. 3\n",
       "\n",
       "\n"
      ],
      "text/plain": [
       "[1] 1 2 3"
      ]
     },
     "metadata": {},
     "output_type": "display_data"
    },
    {
     "data": {
      "text/html": [
       "<ol class=list-inline>\n",
       "\t<li>'Jack'</li>\n",
       "\t<li>'Jimmy'</li>\n",
       "\t<li>'Susan'</li>\n",
       "</ol>\n"
      ],
      "text/latex": [
       "\\begin{enumerate*}\n",
       "\\item 'Jack'\n",
       "\\item 'Jimmy'\n",
       "\\item 'Susan'\n",
       "\\end{enumerate*}\n"
      ],
      "text/markdown": [
       "1. 'Jack'\n",
       "2. 'Jimmy'\n",
       "3. 'Susan'\n",
       "\n",
       "\n"
      ],
      "text/plain": [
       "[1] \"Jack\"  \"Jimmy\" \"Susan\""
      ]
     },
     "metadata": {},
     "output_type": "display_data"
    },
    {
     "data": {
      "text/html": [
       "<ol class=list-inline>\n",
       "\t<li>TRUE</li>\n",
       "\t<li>FALSE</li>\n",
       "\t<li>TRUE</li>\n",
       "</ol>\n"
      ],
      "text/latex": [
       "\\begin{enumerate*}\n",
       "\\item TRUE\n",
       "\\item FALSE\n",
       "\\item TRUE\n",
       "\\end{enumerate*}\n"
      ],
      "text/markdown": [
       "1. TRUE\n",
       "2. FALSE\n",
       "3. TRUE\n",
       "\n",
       "\n"
      ],
      "text/plain": [
       "[1]  TRUE FALSE  TRUE"
      ]
     },
     "metadata": {},
     "output_type": "display_data"
    }
   ],
   "source": [
    "c(1, 2, 3)\n",
    "c(\"Jack\", \"Jimmy\", \"Susan\")\n",
    "c(TRUE, FALSE, TRUE)"
   ]
  },
  {
   "cell_type": "code",
   "execution_count": 25,
   "id": "8eb60acf",
   "metadata": {
    "scrolled": true
   },
   "outputs": [
    {
     "ename": "ERROR",
     "evalue": "Error in eval(expr, envir, enclos): object 'Jack' not found\n",
     "output_type": "error",
     "traceback": [
      "Error in eval(expr, envir, enclos): object 'Jack' not found\nTraceback:\n"
     ]
    }
   ],
   "source": [
    "c(Jack, Jimmy, Susan)  # it will give an error as I didnt define the charcters and R is looking for variable and thet\n",
    "                        # are not. "
   ]
  },
  {
   "cell_type": "code",
   "execution_count": 30,
   "id": "3841efb1",
   "metadata": {},
   "outputs": [
    {
     "data": {
      "text/html": [
       "<ol class=list-inline>\n",
       "\t<li>1</li>\n",
       "\t<li>2</li>\n",
       "\t<li>3</li>\n",
       "\t<li>4</li>\n",
       "\t<li>5</li>\n",
       "\t<li>6</li>\n",
       "\t<li>7</li>\n",
       "\t<li>8</li>\n",
       "\t<li>9</li>\n",
       "\t<li>10</li>\n",
       "</ol>\n"
      ],
      "text/latex": [
       "\\begin{enumerate*}\n",
       "\\item 1\n",
       "\\item 2\n",
       "\\item 3\n",
       "\\item 4\n",
       "\\item 5\n",
       "\\item 6\n",
       "\\item 7\n",
       "\\item 8\n",
       "\\item 9\n",
       "\\item 10\n",
       "\\end{enumerate*}\n"
      ],
      "text/markdown": [
       "1. 1\n",
       "2. 2\n",
       "3. 3\n",
       "4. 4\n",
       "5. 5\n",
       "6. 6\n",
       "7. 7\n",
       "8. 8\n",
       "9. 9\n",
       "10. 10\n",
       "\n",
       "\n"
      ],
      "text/plain": [
       " [1]  1  2  3  4  5  6  7  8  9 10"
      ]
     },
     "metadata": {},
     "output_type": "display_data"
    }
   ],
   "source": [
    "num_vec <- 1:10\n",
    "num_vec"
   ]
  },
  {
   "cell_type": "code",
   "execution_count": 32,
   "id": "ae2cde6a",
   "metadata": {},
   "outputs": [
    {
     "data": {
      "text/html": [
       "<ol class=list-inline>\n",
       "\t<li>1</li>\n",
       "\t<li>2</li>\n",
       "\t<li>3</li>\n",
       "\t<li>4</li>\n",
       "\t<li>5</li>\n",
       "</ol>\n"
      ],
      "text/latex": [
       "\\begin{enumerate*}\n",
       "\\item 1\n",
       "\\item 2\n",
       "\\item 3\n",
       "\\item 4\n",
       "\\item 5\n",
       "\\end{enumerate*}\n"
      ],
      "text/markdown": [
       "1. 1\n",
       "2. 2\n",
       "3. 3\n",
       "4. 4\n",
       "5. 5\n",
       "\n",
       "\n"
      ],
      "text/plain": [
       "[1] 1 2 3 4 5"
      ]
     },
     "metadata": {},
     "output_type": "display_data"
    }
   ],
   "source": [
    "num_vec <- seq(5)\n",
    "num_vec"
   ]
  },
  {
   "cell_type": "code",
   "execution_count": 35,
   "id": "9752dba7",
   "metadata": {},
   "outputs": [
    {
     "data": {
      "text/html": [
       "<ol class=list-inline>\n",
       "\t<li>1</li>\n",
       "\t<li>2</li>\n",
       "\t<li>3</li>\n",
       "\t<li>4</li>\n",
       "\t<li>5</li>\n",
       "\t<li>6</li>\n",
       "\t<li>7</li>\n",
       "\t<li>8</li>\n",
       "\t<li>9</li>\n",
       "\t<li>10</li>\n",
       "</ol>\n"
      ],
      "text/latex": [
       "\\begin{enumerate*}\n",
       "\\item 1\n",
       "\\item 2\n",
       "\\item 3\n",
       "\\item 4\n",
       "\\item 5\n",
       "\\item 6\n",
       "\\item 7\n",
       "\\item 8\n",
       "\\item 9\n",
       "\\item 10\n",
       "\\end{enumerate*}\n"
      ],
      "text/markdown": [
       "1. 1\n",
       "2. 2\n",
       "3. 3\n",
       "4. 4\n",
       "5. 5\n",
       "6. 6\n",
       "7. 7\n",
       "8. 8\n",
       "9. 9\n",
       "10. 10\n",
       "\n",
       "\n"
      ],
      "text/plain": [
       " [1]  1  2  3  4  5  6  7  8  9 10"
      ]
     },
     "metadata": {},
     "output_type": "display_data"
    }
   ],
   "source": [
    "seq(1, 10) # first argument 1 defines the start while 10 idefines the last. By default, is to go by an increment of 1. "
   ]
  },
  {
   "cell_type": "code",
   "execution_count": 38,
   "id": "f54449e9",
   "metadata": {
    "scrolled": true
   },
   "outputs": [
    {
     "data": {
      "text/html": [
       "<ol class=list-inline>\n",
       "\t<li>1</li>\n",
       "\t<li>3</li>\n",
       "\t<li>5</li>\n",
       "\t<li>7</li>\n",
       "\t<li>9</li>\n",
       "</ol>\n"
      ],
      "text/latex": [
       "\\begin{enumerate*}\n",
       "\\item 1\n",
       "\\item 3\n",
       "\\item 5\n",
       "\\item 7\n",
       "\\item 9\n",
       "\\end{enumerate*}\n"
      ],
      "text/markdown": [
       "1. 1\n",
       "2. 3\n",
       "3. 5\n",
       "4. 7\n",
       "5. 9\n",
       "\n",
       "\n"
      ],
      "text/plain": [
       "[1] 1 3 5 7 9"
      ]
     },
     "metadata": {},
     "output_type": "display_data"
    }
   ],
   "source": [
    "seq(1, 10, 2) # So I have changed the incremnt by 2. So we can use third argument, for instance \"2\" in this case"
   ]
  },
  {
   "cell_type": "markdown",
   "id": "67cf6ec4",
   "metadata": {},
   "source": [
    "# Another function \"names\" is also used to assign names to the entries of the vector "
   ]
  },
  {
   "cell_type": "code",
   "execution_count": 34,
   "id": "b74693d8",
   "metadata": {},
   "outputs": [
    {
     "data": {
      "text/html": [
       "<dl class=dl-horizontal>\n",
       "\t<dt>Jack</dt>\n",
       "\t\t<dd>80</dd>\n",
       "\t<dt>Jimmy</dt>\n",
       "\t\t<dd>90</dd>\n",
       "\t<dt>Susan</dt>\n",
       "\t\t<dd>88</dd>\n",
       "</dl>\n"
      ],
      "text/latex": [
       "\\begin{description*}\n",
       "\\item[Jack] 80\n",
       "\\item[Jimmy] 90\n",
       "\\item[Susan] 88\n",
       "\\end{description*}\n"
      ],
      "text/markdown": [
       "Jack\n",
       ":   80Jimmy\n",
       ":   90Susan\n",
       ":   88\n",
       "\n"
      ],
      "text/plain": [
       " Jack Jimmy Susan \n",
       "   80    90    88 "
      ]
     },
     "metadata": {},
     "output_type": "display_data"
    }
   ],
   "source": [
    "bio_marks <- c(80, 90, 88)\n",
    "students <- c(\"Jack\", \"Jimmy\", \"Susan\")\n",
    "names(bio_marks) <- students\n",
    "bio_marks"
   ]
  },
  {
   "cell_type": "markdown",
   "id": "c29406d7",
   "metadata": {},
   "source": [
    "# So lets see how we do subsetting, meaning that how to target a seocifc value in a vector. So for that we use square bracket [] to access the element of the vector."
   ]
  },
  {
   "cell_type": "code",
   "execution_count": 39,
   "id": "6bac8b6c",
   "metadata": {},
   "outputs": [
    {
     "data": {
      "text/html": [
       "'Jack'"
      ],
      "text/latex": [
       "'Jack'"
      ],
      "text/markdown": [
       "'Jack'"
      ],
      "text/plain": [
       "[1] \"Jack\""
      ]
     },
     "metadata": {},
     "output_type": "display_data"
    }
   ],
   "source": [
    "students[1]"
   ]
  },
  {
   "cell_type": "code",
   "execution_count": 40,
   "id": "5d3ea46a",
   "metadata": {},
   "outputs": [
    {
     "data": {
      "text/html": [
       "'Susan'"
      ],
      "text/latex": [
       "'Susan'"
      ],
      "text/markdown": [
       "'Susan'"
      ],
      "text/plain": [
       "[1] \"Susan\""
      ]
     },
     "metadata": {},
     "output_type": "display_data"
    }
   ],
   "source": [
    "students[3]"
   ]
  },
  {
   "cell_type": "code",
   "execution_count": 41,
   "id": "b82af710",
   "metadata": {},
   "outputs": [
    {
     "data": {
      "text/html": [
       "<ol class=list-inline>\n",
       "\t<li>'Jack'</li>\n",
       "\t<li>'Susan'</li>\n",
       "</ol>\n"
      ],
      "text/latex": [
       "\\begin{enumerate*}\n",
       "\\item 'Jack'\n",
       "\\item 'Susan'\n",
       "\\end{enumerate*}\n"
      ],
      "text/markdown": [
       "1. 'Jack'\n",
       "2. 'Susan'\n",
       "\n",
       "\n"
      ],
      "text/plain": [
       "[1] \"Jack\"  \"Susan\""
      ]
     },
     "metadata": {},
     "output_type": "display_data"
    }
   ],
   "source": [
    "students[c(1,3)]"
   ]
  },
  {
   "cell_type": "code",
   "execution_count": 43,
   "id": "6cb19d1b",
   "metadata": {},
   "outputs": [
    {
     "data": {
      "text/html": [
       "<ol class=list-inline>\n",
       "\t<li>'Jack'</li>\n",
       "\t<li>'Jimmy'</li>\n",
       "\t<li>'Susan'</li>\n",
       "</ol>\n"
      ],
      "text/latex": [
       "\\begin{enumerate*}\n",
       "\\item 'Jack'\n",
       "\\item 'Jimmy'\n",
       "\\item 'Susan'\n",
       "\\end{enumerate*}\n"
      ],
      "text/markdown": [
       "1. 'Jack'\n",
       "2. 'Jimmy'\n",
       "3. 'Susan'\n",
       "\n",
       "\n"
      ],
      "text/plain": [
       "[1] \"Jack\"  \"Jimmy\" \"Susan\""
      ]
     },
     "metadata": {},
     "output_type": "display_data"
    }
   ],
   "source": [
    "students[1:3]"
   ]
  }
 ],
 "metadata": {
  "kernelspec": {
   "display_name": "R",
   "language": "R",
   "name": "ir"
  },
  "language_info": {
   "codemirror_mode": "r",
   "file_extension": ".r",
   "mimetype": "text/x-r-source",
   "name": "R",
   "pygments_lexer": "r",
   "version": "3.6.1"
  }
 },
 "nbformat": 4,
 "nbformat_minor": 5
}
